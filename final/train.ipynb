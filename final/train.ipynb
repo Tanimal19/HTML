{
 "cells": [
  {
   "cell_type": "code",
   "execution_count": null,
   "metadata": {},
   "outputs": [
    {
     "name": "stdout",
     "output_type": "stream",
     "text": [
      "0        1\n",
      "1        0\n",
      "2        1\n",
      "3        1\n",
      "4        0\n",
      "        ..\n",
      "11062    1\n",
      "11063    0\n",
      "11064    1\n",
      "11065    0\n",
      "11066    0\n",
      "Name: home_team_win, Length: 11067, dtype: int64\n"
     ]
    }
   ],
   "source": [
    "import pandas as pd\n",
    "from sklearn.model_selection import train_test_split\n",
    "from sklearn.preprocessing import StandardScaler\n",
    "from sklearn.svm import SVC\n",
    "from sklearn.metrics import accuracy_score\n",
    "\n",
    "RANDOM_STATE = 42\n",
    "\n",
    "DATA_DIR = \"_data\"\n",
    "OUTPUT_DIR = \"output\"\n",
    "\n",
    "train_data = pd.read_csv(f\"{DATA_DIR}/train_data.csv\")\n",
    "test_data = pd.read_csv(f\"{DATA_DIR}/same_season_test_data.csv\")\n",
    "\n",
    "# Preprocess\n",
    "X = train_data.drop(\"home_team_win\", axis=1).drop(\"date\", axis=1)\n",
    "y = train_data[\"home_team_win\"]\n",
    "X_test = test_data.drop(\"date\", axis=1)\n",
    "\n",
    "CATEGORICAL_FEATURES = ['home_team_abbr', 'away_team_abbr', 'is_night_game', 'home_pitcher', 'away_pitcher']\n",
    "X = pd.get_dummies(X, columns=CATEGORICAL_FEATURES)\n",
    "y = y.map({True: 1, False: 0})\n",
    "X_test = pd.get_dummies(X_test, columns=CATEGORICAL_FEATURES)\n",
    "\n",
    "# X_train, X_val, y_train, y_val = train_test_split(X, y, test_size=0.2, random_state=RANDOM_STATE)\n",
    "\n",
    "scaler = StandardScaler()\n",
    "# X_train = scaler.fit_transform(X_train)\n",
    "# X_val = scaler.fit_transform(X_val)\n",
    "X = scaler.fit_transform(X)\n",
    "X_test = scaler.fit_transform(X_test)\n",
    "\n",
    "# Train the model\n",
    "model = SVC(kernel=\"rbf\", gamma='auto', random_state=RANDOM_STATE)\n",
    "model.fit(X, y)\n",
    "\n",
    "# Make predictions on the test data\n",
    "y_pred = model.predict(X_test)\n",
    "\n",
    "# Save the predictions\n",
    "output = pd.DataFrame({\"home_time_win\": y_pred})\n",
    "output.to_csv(f\"{OUTPUT_DIR}/predictions.csv\", index=False)\n",
    "\n",
    "# Save the model\n",
    "import pickle\n",
    "\n",
    "with open(f'{OUTPUT_DIR}/model.pkl','wb') as f:\n",
    "    pickle.dump(model, f)"
   ]
  }
 ],
 "metadata": {
  "kernelspec": {
   "display_name": "Python 3",
   "language": "python",
   "name": "python3"
  },
  "language_info": {
   "codemirror_mode": {
    "name": "ipython",
    "version": 3
   },
   "file_extension": ".py",
   "mimetype": "text/x-python",
   "name": "python",
   "nbconvert_exporter": "python",
   "pygments_lexer": "ipython3",
   "version": "3.11.10"
  }
 },
 "nbformat": 4,
 "nbformat_minor": 2
}
